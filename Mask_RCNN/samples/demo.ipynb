{
 "cells": [
  {
   "cell_type": "markdown",
   "metadata": {},
   "source": [
    "# Mask R-CNN Demo\n",
    "\n",
    "A quick intro to using the pre-trained model to detect and segment objects."
   ]
  },
  {
   "cell_type": "code",
   "execution_count": 1,
   "metadata": {},
   "outputs": [
    {
     "name": "stderr",
     "output_type": "stream",
     "text": [
      "/Users/jingle.jiang/anaconda2/envs/cs231n/lib/python3.6/site-packages/h5py/__init__.py:36: FutureWarning: Conversion of the second argument of issubdtype from `float` to `np.floating` is deprecated. In future, it will be treated as `np.float64 == np.dtype(float).type`.\n",
      "  from ._conv import register_converters as _register_converters\n",
      "Using TensorFlow backend.\n"
     ]
    }
   ],
   "source": [
    "import os\n",
    "import sys\n",
    "import random\n",
    "import math\n",
    "import numpy as np\n",
    "import skimage.io\n",
    "import matplotlib\n",
    "import matplotlib.pyplot as plt\n",
    "\n",
    "# Root directory of the project\n",
    "ROOT_DIR = os.path.abspath(\"../\")\n",
    "\n",
    "# Import Mask RCNN\n",
    "sys.path.append(ROOT_DIR)  # To find local version of the library\n",
    "from mrcnn import utils\n",
    "import mrcnn.model as modellib\n",
    "from mrcnn import visualize\n",
    "# Import COCO config\n",
    "sys.path.append(os.path.join(ROOT_DIR, \"samples/coco/\"))  # To find local version\n",
    "import coco\n",
    "\n",
    "%matplotlib inline \n",
    "\n",
    "# Directory to save logs and trained model\n",
    "MODEL_DIR = os.path.join(ROOT_DIR, \"logs\")\n",
    "\n",
    "# Local path to trained weights file\n",
    "COCO_MODEL_PATH = os.path.join(ROOT_DIR, \"mask_rcnn_coco.h5\")\n",
    "# Download COCO trained weights from Releases if needed\n",
    "if not os.path.exists(COCO_MODEL_PATH):\n",
    "    utils.download_trained_weights(COCO_MODEL_PATH)\n",
    "\n",
    "# Directory of images to run detection on\n",
    "IMAGE_DIR = os.path.join(ROOT_DIR, \"images\")"
   ]
  },
  {
   "cell_type": "code",
   "execution_count": 8,
   "metadata": {},
   "outputs": [],
   "source": [
    "from davis import *"
   ]
  },
  {
   "cell_type": "markdown",
   "metadata": {},
   "source": [
    "## Configurations\n",
    "\n",
    "We'll be using a model trained on the MS-COCO dataset. The configurations of this model are in the ```CocoConfig``` class in ```coco.py```.\n",
    "\n",
    "For inferencing, modify the configurations a bit to fit the task. To do so, sub-class the ```CocoConfig``` class and override the attributes you need to change."
   ]
  },
  {
   "cell_type": "code",
   "execution_count": 3,
   "metadata": {},
   "outputs": [
    {
     "name": "stdout",
     "output_type": "stream",
     "text": [
      "\n",
      "Configurations:\n",
      "BACKBONE                       resnet101\n",
      "BACKBONE_STRIDES               [4, 8, 16, 32, 64]\n",
      "BATCH_SIZE                     2\n",
      "BBOX_STD_DEV                   [0.1 0.1 0.2 0.2]\n",
      "DETECTION_MAX_INSTANCES        100\n",
      "DETECTION_MIN_CONFIDENCE       0.7\n",
      "DETECTION_NMS_THRESHOLD        0.3\n",
      "GPU_COUNT                      1\n",
      "GRADIENT_CLIP_NORM             5.0\n",
      "IMAGES_PER_GPU                 2\n",
      "IMAGE_MAX_DIM                  1024\n",
      "IMAGE_META_SIZE                93\n",
      "IMAGE_MIN_DIM                  800\n",
      "IMAGE_MIN_SCALE                0\n",
      "IMAGE_RESIZE_MODE              square\n",
      "IMAGE_SHAPE                    [1024 1024    3]\n",
      "LEARNING_MOMENTUM              0.9\n",
      "LEARNING_RATE                  0.001\n",
      "LOSS_WEIGHTS                   {'rpn_class_loss': 1.0, 'rpn_bbox_loss': 1.0, 'mrcnn_class_loss': 1.0, 'mrcnn_bbox_loss': 1.0, 'mrcnn_mask_loss': 1.0}\n",
      "MASK_POOL_SIZE                 14\n",
      "MASK_SHAPE                     [28, 28]\n",
      "MAX_GT_INSTANCES               100\n",
      "MEAN_PIXEL                     [123.7 116.8 103.9]\n",
      "MINI_MASK_SHAPE                (56, 56)\n",
      "NAME                           coco\n",
      "NUM_CLASSES                    81\n",
      "POOL_SIZE                      7\n",
      "POST_NMS_ROIS_INFERENCE        1000\n",
      "POST_NMS_ROIS_TRAINING         2000\n",
      "ROI_POSITIVE_RATIO             0.33\n",
      "RPN_ANCHOR_RATIOS              [0.5, 1, 2]\n",
      "RPN_ANCHOR_SCALES              (32, 64, 128, 256, 512)\n",
      "RPN_ANCHOR_STRIDE              1\n",
      "RPN_BBOX_STD_DEV               [0.1 0.1 0.2 0.2]\n",
      "RPN_NMS_THRESHOLD              0.7\n",
      "RPN_TRAIN_ANCHORS_PER_IMAGE    256\n",
      "STEPS_PER_EPOCH                1000\n",
      "TRAIN_BN                       False\n",
      "TRAIN_ROIS_PER_IMAGE           200\n",
      "USE_MINI_MASK                  True\n",
      "USE_RPN_ROIS                   True\n",
      "VALIDATION_STEPS               50\n",
      "WEIGHT_DECAY                   0.0001\n",
      "\n",
      "\n"
     ]
    }
   ],
   "source": [
    "class InferenceConfig(coco.CocoConfig):\n",
    "    # Set batch size to 1 since we'll be running inference on\n",
    "    # one image at a time. Batch size = GPU_COUNT * IMAGES_PER_GPU\n",
    "    GPU_COUNT = 1\n",
    "    IMAGES_PER_GPU = 2\n",
    "\n",
    "config = InferenceConfig()\n",
    "config.display()"
   ]
  },
  {
   "cell_type": "markdown",
   "metadata": {},
   "source": [
    "## Create Model and Load Trained Weights"
   ]
  },
  {
   "cell_type": "code",
   "execution_count": 4,
   "metadata": {
    "scrolled": false
   },
   "outputs": [],
   "source": [
    "# Create model object in inference mode.\n",
    "model = modellib.MaskRCNN(mode=\"inference\", model_dir=MODEL_DIR, config=config)\n",
    "\n",
    "# Load weights trained on MS-COCO\n",
    "model.load_weights(COCO_MODEL_PATH, by_name=True)"
   ]
  },
  {
   "cell_type": "markdown",
   "metadata": {},
   "source": [
    "## Class Names\n",
    "\n",
    "The model classifies objects and returns class IDs, which are integer value that identify each class. Some datasets assign integer values to their classes and some don't. For example, in the MS-COCO dataset, the 'person' class is 1 and 'teddy bear' is 88. The IDs are often sequential, but not always. The COCO dataset, for example, has classes associated with class IDs 70 and 72, but not 71.\n",
    "\n",
    "To improve consistency, and to support training on data from multiple sources at the same time, our ```Dataset``` class assigns it's own sequential integer IDs to each class. For example, if you load the COCO dataset using our ```Dataset``` class, the 'person' class would get class ID = 1 (just like COCO) and the 'teddy bear' class is 78 (different from COCO). Keep that in mind when mapping class IDs to class names.\n",
    "\n",
    "To get the list of class names, you'd load the dataset and then use the ```class_names``` property like this.\n",
    "```\n",
    "# Load COCO dataset\n",
    "dataset = coco.CocoDataset()\n",
    "dataset.load_coco(COCO_DIR, \"train\")\n",
    "dataset.prepare()\n",
    "\n",
    "# Print class names\n",
    "print(dataset.class_names)\n",
    "```\n",
    "\n",
    "We don't want to require you to download the COCO dataset just to run this demo, so we're including the list of class names below. The index of the class name in the list represent its ID (first class is 0, second is 1, third is 2, ...etc.)"
   ]
  },
  {
   "cell_type": "code",
   "execution_count": 5,
   "metadata": {},
   "outputs": [],
   "source": [
    "# COCO Class names\n",
    "# Index of the class in the list is its ID. For example, to get ID of\n",
    "# the teddy bear class, use: class_names.index('teddy bear')\n",
    "class_names = ['BG', 'person', 'bicycle', 'car', 'motorcycle', 'airplane',\n",
    "               'bus', 'train', 'truck', 'boat', 'traffic light',\n",
    "               'fire hydrant', 'stop sign', 'parking meter', 'bench', 'bird',\n",
    "               'cat', 'dog', 'horse', 'sheep', 'cow', 'elephant', 'bear',\n",
    "               'zebra', 'giraffe', 'backpack', 'umbrella', 'handbag', 'tie',\n",
    "               'suitcase', 'frisbee', 'skis', 'snowboard', 'sports ball',\n",
    "               'kite', 'baseball bat', 'baseball glove', 'skateboard',\n",
    "               'surfboard', 'tennis racket', 'bottle', 'wine glass', 'cup',\n",
    "               'fork', 'knife', 'spoon', 'bowl', 'banana', 'apple',\n",
    "               'sandwich', 'orange', 'broccoli', 'carrot', 'hot dog', 'pizza',\n",
    "               'donut', 'cake', 'chair', 'couch', 'potted plant', 'bed',\n",
    "               'dining table', 'toilet', 'tv', 'laptop', 'mouse', 'remote',\n",
    "               'keyboard', 'cell phone', 'microwave', 'oven', 'toaster',\n",
    "               'sink', 'refrigerator', 'book', 'clock', 'vase', 'scissors',\n",
    "               'teddy bear', 'hair drier', 'toothbrush']"
   ]
  },
  {
   "cell_type": "markdown",
   "metadata": {},
   "source": [
    "## Run Object Detection"
   ]
  },
  {
   "cell_type": "code",
   "execution_count": 6,
   "metadata": {},
   "outputs": [],
   "source": [
    "# Load a random image from the images folder\n",
    "# file_names = next(os.walk(IMAGE_DIR))[2]\n",
    "# image = skimage.io.imread(os.path.join(IMAGE_DIR, random.choice(file_names)))\n",
    "file_names = \"00000.jpg\"\n",
    "IMAGE_DIR = \"/Users/jingle.jiang/personal/class/stanford/\\\n",
    "cs231n/final/video_segmentation/davis-2017/data/DAVIS/JPEGImages/480p/elephant\"\n",
    "\n",
    "image = skimage.io.imread(os.path.join(IMAGE_DIR, file_names))"
   ]
  },
  {
   "cell_type": "code",
   "execution_count": null,
   "metadata": {},
   "outputs": [],
   "source": [
    "r['rois'][:1].shape[0]"
   ]
  },
  {
   "cell_type": "code",
   "execution_count": null,
   "metadata": {},
   "outputs": [],
   "source": [
    "r['masks'][:,:,:1].shape"
   ]
  },
  {
   "cell_type": "code",
   "execution_count": null,
   "metadata": {},
   "outputs": [],
   "source": [
    "visualize.display_instances(image, r['rois'][:1], r['masks'][:,:,:1], r['class_ids'][:1], \n",
    "                            class_names, r['scores'][:1])"
   ]
  },
  {
   "cell_type": "code",
   "execution_count": null,
   "metadata": {
    "scrolled": false
   },
   "outputs": [],
   "source": [
    "\n",
    "\n",
    "# Run detection\n",
    "# results = model.detect([image], verbose=1)\n",
    "\n",
    "# Visualize results\n",
    "r = result_\n",
    "visualize.display_instances(image, r['rois'][1:], r['masks'][:,:,1:], r['class_ids'][1:], \n",
    "                            class_names, r['scores'][1:])"
   ]
  },
  {
   "cell_type": "code",
   "execution_count": null,
   "metadata": {},
   "outputs": [],
   "source": [
    "data_ = np.squeeze(data[:, :, 0])\n",
    "for i in range(1, data.shape[2]):\n",
    "    data_[np.squeeze(data[:, :, i]) != 0] = (i+1)\n",
    "data = data_"
   ]
  },
  {
   "cell_type": "code",
   "execution_count": null,
   "metadata": {},
   "outputs": [],
   "source": [
    "io.imwrite_indexed(os.path.join(SAVE_DIR, file_[:-3]+\"png\"), data)"
   ]
  },
  {
   "cell_type": "code",
   "execution_count": 23,
   "metadata": {},
   "outputs": [],
   "source": [
    "FOLDER_NAMES = [_ for _ in cfg.SEQUENCES.keys()]"
   ]
  },
  {
   "cell_type": "code",
   "execution_count": 24,
   "metadata": {},
   "outputs": [
    {
     "data": {
      "text/plain": [
       "['aerobatics',\n",
       " 'bear',\n",
       " 'bike-packing',\n",
       " 'blackswan',\n",
       " 'bmx-bumps',\n",
       " 'bmx-trees',\n",
       " 'boat',\n",
       " 'boxing-fisheye',\n",
       " 'breakdance',\n",
       " 'breakdance-flare',\n",
       " 'bus',\n",
       " 'camel',\n",
       " 'car-race',\n",
       " 'car-roundabout',\n",
       " 'car-shadow',\n",
       " 'car-turn',\n",
       " 'carousel',\n",
       " 'cat-girl',\n",
       " 'cats-car',\n",
       " 'chamaleon',\n",
       " 'classic-car',\n",
       " 'color-run',\n",
       " 'cows',\n",
       " 'crossing',\n",
       " 'dance-jump',\n",
       " 'dance-twirl',\n",
       " 'dancing',\n",
       " 'deer',\n",
       " 'disc-jockey',\n",
       " 'dog',\n",
       " 'dog-agility',\n",
       " 'dog-gooses',\n",
       " 'dogs-jump',\n",
       " 'dogs-scale',\n",
       " 'drift-chicane',\n",
       " 'drift-straight',\n",
       " 'drift-turn',\n",
       " 'drone',\n",
       " 'elephant',\n",
       " 'flamingo',\n",
       " 'giant-slalom',\n",
       " 'girl-dog',\n",
       " 'goat',\n",
       " 'gold-fish',\n",
       " 'golf',\n",
       " 'guitar-violin',\n",
       " 'gym',\n",
       " 'helicopter',\n",
       " 'hike',\n",
       " 'hockey',\n",
       " 'horsejump-high',\n",
       " 'horsejump-low',\n",
       " 'horsejump-stick',\n",
       " 'hoverboard',\n",
       " 'india',\n",
       " 'judo',\n",
       " 'kid-football',\n",
       " 'kite-surf',\n",
       " 'kite-walk',\n",
       " 'koala',\n",
       " 'lab-coat',\n",
       " 'lady-running',\n",
       " 'libby',\n",
       " 'lindy-hop',\n",
       " 'loading',\n",
       " 'lock',\n",
       " 'longboard',\n",
       " 'lucia',\n",
       " 'mallard-fly',\n",
       " 'mallard-water',\n",
       " 'man-bike',\n",
       " 'mbike-trick',\n",
       " 'miami-surf',\n",
       " 'monkeys-trees',\n",
       " 'motocross-bumps',\n",
       " 'motocross-jump',\n",
       " 'motorbike',\n",
       " 'mtb-race',\n",
       " 'night-race',\n",
       " 'orchid',\n",
       " 'paragliding',\n",
       " 'paragliding-launch',\n",
       " 'parkour',\n",
       " 'people-sunset',\n",
       " 'pigs',\n",
       " 'planes-crossing',\n",
       " 'planes-water',\n",
       " 'rallye',\n",
       " 'rhino',\n",
       " 'rollerblade',\n",
       " 'rollercoaster',\n",
       " 'salsa',\n",
       " 'schoolgirls',\n",
       " 'scooter-black',\n",
       " 'scooter-board',\n",
       " 'scooter-gray',\n",
       " 'seasnake',\n",
       " 'sheep',\n",
       " 'shooting',\n",
       " 'skate-jump',\n",
       " 'skate-park',\n",
       " 'slackline',\n",
       " 'snowboard',\n",
       " 'soapbox',\n",
       " 'soccerball',\n",
       " 'stroller',\n",
       " 'stunt',\n",
       " 'subway',\n",
       " 'surf',\n",
       " 'swing',\n",
       " 'tandem',\n",
       " 'tennis',\n",
       " 'tennis-vest',\n",
       " 'tractor',\n",
       " 'tractor-sand',\n",
       " 'train',\n",
       " 'tuk-tuk',\n",
       " 'upside-down',\n",
       " 'varanus-cage',\n",
       " 'walking']"
      ]
     },
     "execution_count": 24,
     "metadata": {},
     "output_type": "execute_result"
    }
   ],
   "source": [
    "FOLDER_NAMES"
   ]
  },
  {
   "cell_type": "code",
   "execution_count": 7,
   "metadata": {},
   "outputs": [
    {
     "name": "stdout",
     "output_type": "stream",
     "text": [
      "00006.jpg out of 80\n",
      "00007.jpg out of 80\n",
      "00008.jpg out of 80\n",
      "00009.jpg out of 80\n",
      "00010.jpg out of 80\n",
      "00011.jpg out of 80\n",
      "00012.jpg out of 80\n",
      "00013.jpg out of 80\n",
      "00014.jpg out of 80\n",
      "00015.jpg out of 80\n",
      "00016.jpg out of 80\n",
      "00017.jpg out of 80\n",
      "00018.jpg out of 80\n",
      "00019.jpg out of 80\n",
      "00020.jpg out of 80\n",
      "00021.jpg out of 80\n",
      "00022.jpg out of 80\n",
      "00023.jpg out of 80\n",
      "00024.jpg out of 80\n",
      "00025.jpg out of 80\n",
      "00026.jpg out of 80\n",
      "00027.jpg out of 80\n",
      "00028.jpg out of 80\n",
      "00029.jpg out of 80\n",
      "00030.jpg out of 80\n",
      "00031.jpg out of 80\n",
      "00032.jpg out of 80\n",
      "00033.jpg out of 80\n",
      "00034.jpg out of 80\n",
      "00035.jpg out of 80\n",
      "00036.jpg out of 80\n",
      "00037.jpg out of 80\n",
      "00038.jpg out of 80\n",
      "00039.jpg out of 80\n",
      "00040.jpg out of 80\n",
      "00041.jpg out of 80\n",
      "00042.jpg out of 80\n",
      "00043.jpg out of 80\n",
      "00044.jpg out of 80\n",
      "00045.jpg out of 80\n",
      "00046.jpg out of 80\n",
      "00047.jpg out of 80\n",
      "00048.jpg out of 80\n",
      "00049.jpg out of 80\n",
      "00050.jpg out of 80\n",
      "00051.jpg out of 80\n",
      "00052.jpg out of 80\n",
      "00053.jpg out of 80\n",
      "00054.jpg out of 80\n",
      "00055.jpg out of 80\n",
      "00056.jpg out of 80\n",
      "00057.jpg out of 80\n",
      "00058.jpg out of 80\n",
      "00059.jpg out of 80\n",
      "00060.jpg out of 80\n",
      "00061.jpg out of 80\n",
      "00062.jpg out of 80\n",
      "00063.jpg out of 80\n",
      "00064.jpg out of 80\n",
      "00065.jpg out of 80\n",
      "00066.jpg out of 80\n",
      "00067.jpg out of 80\n",
      "00068.jpg out of 80\n",
      "00069.jpg out of 80\n",
      "00070.jpg out of 80\n",
      "00071.jpg out of 80\n",
      "00072.jpg out of 80\n",
      "00073.jpg out of 80\n",
      "00074.jpg out of 80\n",
      "00075.jpg out of 80\n",
      "00076.jpg out of 80\n",
      "00077.jpg out of 80\n",
      "00078.jpg out of 80\n",
      "00079.jpg out of 80\n"
     ]
    }
   ],
   "source": [
    "# let's do this iteratively\n",
    "SAVE_DIR = \"/Users/jingle.jiang/personal/class/\\\n",
    "stanford/cs231n/final/video_segmentation/davis-2017/data/DAVIS/MaskRCNN/480p/elephant/\"\n",
    "images = []\n",
    "files = []\n",
    "count = -1\n",
    "for file in os.listdir(IMAGE_DIR):\n",
    "    count += 1\n",
    "    if count <= 5:\n",
    "        continue\n",
    "    if file.endswith(\".jpg\"):\n",
    "        print(file + \" out of \" + str(len(os.listdir(IMAGE_DIR))))\n",
    "        image = skimage.io.imread(os.path.join(IMAGE_DIR, file))\n",
    "        images.append(image)\n",
    "        files.append(file)\n",
    "        if len(images) == config.IMAGES_PER_GPU:\n",
    "            results = model.detect(images, verbose=0)\n",
    "            #save\n",
    "            for file_, result_ in zip(files, results):\n",
    "                data = np.squeeze(result_[\"masks\"])\n",
    "                data = data.astype('uint8')\n",
    "                if np.atleast_3d(data).shape[2] != 1:\n",
    "                    #when we detect more then one items\n",
    "                    data_ = np.squeeze(data[:, :, 0])\n",
    "                    for i in range(1, data.shape[2]):\n",
    "                        data_[np.squeeze(data[:, :, i]) != 0] = (i+1)\n",
    "                    data = data_\n",
    "                io.imwrite_indexed(os.path.join(SAVE_DIR, file_[:-3]+\"png\"), data)\n",
    "            \n",
    "            # before done, reinit images and files\n",
    "            images = []\n",
    "            files = []\n"
   ]
  },
  {
   "cell_type": "code",
   "execution_count": 9,
   "metadata": {},
   "outputs": [
    {
     "data": {
      "text/plain": [
       "80"
      ]
     },
     "execution_count": 9,
     "metadata": {},
     "output_type": "execute_result"
    }
   ],
   "source": [
    "len(os.listdir(IMAGE_DIR))"
   ]
  },
  {
   "cell_type": "code",
   "execution_count": null,
   "metadata": {},
   "outputs": [],
   "source": [
    "array = data\n",
    "np.atleast_3d(array).shape[2] != 1\n",
    "np.unique(array)"
   ]
  },
  {
   "cell_type": "code",
   "execution_count": null,
   "metadata": {},
   "outputs": [],
   "source": [
    "io.imwrite_indexed(os.path.join(SAVE_DIR, file_[:-3]+\"png\"), data)"
   ]
  },
  {
   "cell_type": "code",
   "execution_count": null,
   "metadata": {},
   "outputs": [],
   "source": []
  },
  {
   "cell_type": "code",
   "execution_count": null,
   "metadata": {},
   "outputs": [],
   "source": []
  },
  {
   "cell_type": "code",
   "execution_count": null,
   "metadata": {},
   "outputs": [],
   "source": []
  },
  {
   "cell_type": "code",
   "execution_count": null,
   "metadata": {},
   "outputs": [],
   "source": []
  },
  {
   "cell_type": "code",
   "execution_count": null,
   "metadata": {},
   "outputs": [],
   "source": []
  },
  {
   "cell_type": "code",
   "execution_count": null,
   "metadata": {},
   "outputs": [],
   "source": []
  },
  {
   "cell_type": "code",
   "execution_count": null,
   "metadata": {},
   "outputs": [],
   "source": []
  },
  {
   "cell_type": "code",
   "execution_count": null,
   "metadata": {},
   "outputs": [],
   "source": []
  },
  {
   "cell_type": "code",
   "execution_count": null,
   "metadata": {},
   "outputs": [],
   "source": []
  },
  {
   "cell_type": "code",
   "execution_count": null,
   "metadata": {},
   "outputs": [],
   "source": []
  },
  {
   "cell_type": "code",
   "execution_count": null,
   "metadata": {},
   "outputs": [],
   "source": []
  },
  {
   "cell_type": "code",
   "execution_count": null,
   "metadata": {},
   "outputs": [],
   "source": [
    "np.unique(results[0][\"masks\"])"
   ]
  },
  {
   "cell_type": "code",
   "execution_count": null,
   "metadata": {},
   "outputs": [],
   "source": []
  },
  {
   "cell_type": "code",
   "execution_count": null,
   "metadata": {},
   "outputs": [],
   "source": []
  },
  {
   "cell_type": "code",
   "execution_count": null,
   "metadata": {},
   "outputs": [],
   "source": [
    "data = np.squeeze(results[0][\"masks\"])\n",
    "data = data.astype('uint8')\n",
    "np.unique(data)"
   ]
  },
  {
   "cell_type": "code",
   "execution_count": null,
   "metadata": {},
   "outputs": [],
   "source": []
  },
  {
   "cell_type": "code",
   "execution_count": null,
   "metadata": {},
   "outputs": [],
   "source": [
    "file_names = 'elephant/00000.png'"
   ]
  },
  {
   "cell_type": "code",
   "execution_count": null,
   "metadata": {},
   "outputs": [],
   "source": [
    "SAVE_DIR = \"/Users/jingle.jiang/personal/class/stanford/cs231n/final/video_segmentation/davis-2017/data/DAVIS/MaskRCNN/480p/\"\n",
    "image = io.imwrite_indexed(os.path.join(SAVE_DIR, file_names), data)"
   ]
  },
  {
   "cell_type": "code",
   "execution_count": null,
   "metadata": {},
   "outputs": [],
   "source": [
    "os.path.join(SAVE_DIR, file_names)"
   ]
  },
  {
   "cell_type": "code",
   "execution_count": null,
   "metadata": {},
   "outputs": [],
   "source": [
    "io"
   ]
  },
  {
   "cell_type": "code",
   "execution_count": null,
   "metadata": {},
   "outputs": [],
   "source": []
  },
  {
   "cell_type": "code",
   "execution_count": null,
   "metadata": {},
   "outputs": [],
   "source": [
    "for file in range(80):\n",
    "    if file<10:\n",
    "        file_names = 'elephant/0000' + str(file) + \".png\"\n",
    "    else:\n",
    "        file_names = 'elephant/000' + str(file) + \".png\"\n",
    "    image = io.imwrite_indexed(os.path.join(SAVE_DIR, file_names), data)"
   ]
  },
  {
   "cell_type": "code",
   "execution_count": null,
   "metadata": {},
   "outputs": [],
   "source": []
  },
  {
   "cell_type": "code",
   "execution_count": null,
   "metadata": {},
   "outputs": [],
   "source": []
  },
  {
   "cell_type": "code",
   "execution_count": null,
   "metadata": {},
   "outputs": [],
   "source": []
  },
  {
   "cell_type": "code",
   "execution_count": null,
   "metadata": {},
   "outputs": [],
   "source": []
  },
  {
   "cell_type": "code",
   "execution_count": null,
   "metadata": {},
   "outputs": [],
   "source": [
    "ANN_DIR = \"/Users/jingle.jiang/personal/class/stanford/cs231n/final/video_segmentation/davis-2017/data/DAVIS/Annotations/480p/\"\n",
    "ann = skimage.io.imread(os.path.join(ANN_DIR, \"elephant/00000.png\"))"
   ]
  },
  {
   "cell_type": "code",
   "execution_count": null,
   "metadata": {},
   "outputs": [],
   "source": [
    "ann.shape"
   ]
  },
  {
   "cell_type": "code",
   "execution_count": null,
   "metadata": {},
   "outputs": [],
   "source": [
    "np.unique(ann)"
   ]
  },
  {
   "cell_type": "code",
   "execution_count": null,
   "metadata": {},
   "outputs": [],
   "source": [
    "ANN_DIR = \"/Users/jingle.jiang/personal/class/stanford/cs231n/final/video_segmentation/davis-2017/data/DAVIS/MaskRCNN/480p/\"\n",
    "ann = skimage.io.imread(os.path.join(ANN_DIR, \"elephant/00000.png\"))\n",
    "np.unique(ann)"
   ]
  },
  {
   "cell_type": "code",
   "execution_count": null,
   "metadata": {},
   "outputs": [],
   "source": [
    "ann.shape"
   ]
  },
  {
   "cell_type": "code",
   "execution_count": null,
   "metadata": {},
   "outputs": [],
   "source": [
    "ann[200:300, 300:400]"
   ]
  },
  {
   "cell_type": "code",
   "execution_count": null,
   "metadata": {},
   "outputs": [],
   "source": []
  }
 ],
 "metadata": {
  "kernelspec": {
   "display_name": "Python 3",
   "language": "python",
   "name": "python3"
  },
  "language_info": {
   "codemirror_mode": {
    "name": "ipython",
    "version": 3
   },
   "file_extension": ".py",
   "mimetype": "text/x-python",
   "name": "python",
   "nbconvert_exporter": "python",
   "pygments_lexer": "ipython3",
   "version": "3.6.4"
  }
 },
 "nbformat": 4,
 "nbformat_minor": 2
}
